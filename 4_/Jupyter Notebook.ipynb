{
 "cells": [
  {
   "cell_type": "markdown",
   "id": "13d001cf",
   "metadata": {},
   "source": [
    "# Jupyter Notebook on comments on python script\n",
    "## By Enriq Mah \n",
    "\n",
    "> A for loop is used in this scenario to make the code much shorter, by iterating over the given range incrementally, rather than having to use the print function 10 times to print 1 to 10 on the terminal."
   ]
  },
  {
   "cell_type": "code",
   "execution_count": 9,
   "id": "fe1f78f1",
   "metadata": {},
   "outputs": [
    {
     "name": "stdout",
     "output_type": "stream",
     "text": [
      "1\n",
      "2\n",
      "3\n",
      "4\n",
      "5\n",
      "6\n",
      "7\n",
      "8\n",
      "9\n",
      "10\n"
     ]
    }
   ],
   "source": [
    "for i in range(1,11): print(i)"
   ]
  },
  {
   "cell_type": "markdown",
   "id": "37d15fac",
   "metadata": {},
   "source": [
    "In a for loop, the code is set to run \"n\" amount of times incrementally it will change the temporary variable \"i\" from the given start 1, to the stop which is the \"n-1\"th term; \"n\" is denoted by the second argument of the range function. \n",
    "\n",
    "The first argument in the range function denotes the **start** point of the give sequence. By default, this value is set to 0.  \n",
    "The second argument denotes the **stop** of the given sequence \"n\"  \n",
    "The third arguement is left blank, which is set to the default **step** of 1."
   ]
  },
  {
   "cell_type": "code",
   "execution_count": null,
   "id": "ed3a5487",
   "metadata": {},
   "outputs": [],
   "source": []
  }
 ],
 "metadata": {
  "kernelspec": {
   "display_name": "Python 3 (ipykernel)",
   "language": "python",
   "name": "python3"
  },
  "language_info": {
   "codemirror_mode": {
    "name": "ipython",
    "version": 3
   },
   "file_extension": ".py",
   "mimetype": "text/x-python",
   "name": "python",
   "nbconvert_exporter": "python",
   "pygments_lexer": "ipython3",
   "version": "3.11.4"
  }
 },
 "nbformat": 4,
 "nbformat_minor": 5
}
